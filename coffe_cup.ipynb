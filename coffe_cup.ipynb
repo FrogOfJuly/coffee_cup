{
 "cells": [
  {
   "cell_type": "markdown",
   "metadata": {},
   "source": [
    "# Coffee cup  \n",
    "\n",
    "The problem statement is as follows. \n",
    "\n",
    "Imagine having a cup of magnificent, fresh, and hot coffee. It is a known fact that as it cools down the magnificence levels drop too sharply. Thus, to avoid such a fate, it is desired to minimize cooling. \n",
    "\n",
    "Assume that the cup is a cylinder with a circle base and the coffee is a \"geometric\" fluid: always at rest, with its surface perpendicular to gravity. \n",
    "\n",
    "There are many ways to minimize cooling. One of them is to reduce the exposed surface area of the coffee, by creating an angle between gravitational force and the main axes of the cup. The question is: Given the volume of coffee and parameters of the cup, what angle between the cup's main axis and gravity provides a minimum of exposed surface?"
   ]
  },
  {
   "cell_type": "markdown",
   "metadata": {},
   "source": [
    "![Problem statement](images/Coffee_cup_statement.png \"Coffee cup\")\n",
    "\n",
    "Constants\n",
    "\n",
    "- $L_0$ is the length of the cylinder. \n",
    "- $R_0$ is the radius of the circle in the base. \n",
    "- $V_0$ is a given volume of the coffee.\n",
    "\n",
    "Variables\n",
    "\n",
    "- $\\alpha$ a the angle of the coffee main axes of the cup with the gravity.\n",
    "- $h$ is the height at which the coffee's surface touches the base of the cylinder.\n",
    "- $L$ is the distance from the base of the cylinder to where the surface touches its inner wall."
   ]
  },
  {
   "cell_type": "markdown",
   "metadata": {
    "vscode": {
     "languageId": "plaintext"
    }
   },
   "source": [
    "## Overview\n",
    "\n",
    "As one fools around with a real cup of coffee, the process has three distinct phases.\n",
    "\n",
    "### Phase I\n",
    "\n",
    "At first, the surface area increases with an angle, as the circle becomes an ellipse. Then at a certain angle, the surface hits the base of the cylinder. Let's call this angle $\\alpha_0$. This angle corresponds to the red ellipse in the picture above.\n",
    "\n",
    "### Phase II\n",
    "\n",
    "After some more angling the second, less prominent, angle is visible: the one when the surface forms exactly half of the ellipse. Let's call this angle $\\alpha_1$ and the corresponding ellipse is blue this time.\n",
    "\n",
    "### Phase III\n",
    "\n",
    "The last point that one will notice is the danger point, where the coffee reaches the edge of the cup and tries to escape. Let's call this angle $\\alpha_2$.\n",
    "\n",
    "One interesting observation is that depending on the amount of coffee, it is possible to spill the coffee before it reaches $\\alpha_1$ or even $\\alpha_0$. "
   ]
  },
  {
   "cell_type": "markdown",
   "metadata": {},
   "source": [
    "## Parametrisation\n",
    "\n",
    "From a geometric point of view, the problem of finding relevant surface($ABC$) and volume($ABCD$) has two degrees of freedom. In my experience, it is beneficial to choose the angle $\\alpha$ of the ellipse with the base and the height $h$ where it touches the base as parameters. \n",
    "\n",
    "![Problem parametrisation](images/Coffee_cup_parametrisation.png \"Parametrisation\")"
   ]
  },
  {
   "cell_type": "markdown",
   "metadata": {},
   "source": [
    "## Supplementary math\n",
    "\n",
    "Here would be bunch of integrals to calculate volume and surface of the coffee.\n",
    "\n"
   ]
  },
  {
   "cell_type": "markdown",
   "metadata": {},
   "source": [
    "\n",
    "\n",
    "### Area of the circle\n",
    "\n",
    "The most important note about the surface is that it is calculated with respect to $h$ with the fixed angle $\\alpha$. Below is an example with two different values for $h$: $h_1 < h_2$\n",
    "\n",
    "This is to be calculated starting from $C$ alongside the longest axes of the ellipse. \n",
    "\n",
    "![Surface area](images/Coffee_cup_surface_area.png \"Surface area\")\n",
    "\n",
    "To find this area, first, we need to delve into circles. Below is the scaled version of the surface ellipsis with reference points for better visualization. The relevant area is filled with blue. \n",
    "\n",
    "![Circle](images/Circle.png \"Circle\")\n",
    "\n",
    "If $S_F(x)$ is a surface of the filled area with respect to its length, then math goes as follows.\n",
    "\n",
    "$$\n",
    "S_F(x) = 2 \\int_{0}^{x} \\sqrt{1 - (x - 1)^2} dx = \\frac{\\pi}{2} + (x - 1) \\sqrt{1 - (x - 1)^2} + \\arcsin{(x - 1)}\n",
    "$$\n",
    "We take an integral of the circle equation shifted by 1 to account for start in $C$ and multiply it by 2 to account for the area below.   \n",
    "\n",
    "\n",
    "To obtain the area of the ellipse we need to scale the variable and the surface itself as in the ellipse equation: $\\frac{x}{a}^2 + \\frac{y}{b}^2 = 1$\n",
    "\n",
    "$$\n",
    "S(h) = R \\frac{R}{\\cos{\\alpha}} S_F(\\frac{h}{R})\n",
    "$$\n"
   ]
  },
  {
   "cell_type": "markdown",
   "metadata": {},
   "source": [
    "\n",
    "\n",
    "### Volume under the ellipse\n",
    "\n",
    "\n",
    "In order to find volume another integral is needed. In the image below the vector $\\vec{n}$ is the direction of this next integral. \n",
    "\n",
    "\n",
    "\n",
    "![Volume](images/Coffee_cup_volume.png \"Volume\")\n",
    "\n",
    "\n",
    "The math goes as follows: \n",
    "\n",
    "At first let's compute $n = |{\\vec{n}}| = h \\sin{\\alpha}$ and then the volume $ABCD$.\n",
    "\n",
    "\n",
    "$$ \n",
    "V(x) = \\int_{0}^{n} S(h) dn = \\int_{0}^{h} S(h) \\cdot \\sin{\\alpha} \\cdot dh   = \\int_{0}^{h} \\frac{R^2}{\\cos{\\alpha}} S_F(\\frac{h}{R}) \\sin{\\alpha} \\cdot dh  = R^3 \\tan{\\alpha} \\cdot V_F(\\frac{h}{R}) \n",
    "$$\n",
    "\n",
    "where\n",
    "\n",
    "$$\n",
    "V_F(x) = \\int_{0}^{x} S_F(t) dt = \\frac{\\pi}{2} (x - 1) + \\sqrt{1 - (x - 1)^2} - \\frac{1}{3} \\sqrt{1 - (x - 1)^2}^3 + (x - 1) \\arcsin{(x - 1)}\n",
    "$$"
   ]
  },
  {
   "cell_type": "markdown",
   "metadata": {},
   "source": [
    "## Solution\n",
    "\n",
    "Here I will go from `Phase I` to `Phase III` while describing how the coffee behaves."
   ]
  },
  {
   "cell_type": "markdown",
   "metadata": {},
   "source": [
    "\n",
    "\n",
    "### Phase I \n",
    "\n",
    "The phase begins with the first candidate for the best cup angle, $\\alpha = 0$. \n",
    "\n",
    "$$\n",
    "S(0) = \\pi R^2\n",
    "$$\n",
    "\n",
    "Before the base touches the surface of the coffee increases monotonically with the angle: \n",
    "\n",
    "$$ \n",
    "S(\\alpha) = \\frac{\\pi R^2}{\\cos(\\alpha)}\n",
    "$$\n",
    "\n",
    "The only thing to look out for is the cup overfill. Thus: \n",
    "\n",
    "$$\n",
    "L(\\alpha) = \\frac{V_0 - V(2R)}{\\pi R^2} + 2R \\cdot \\tan{\\alpha} = \\frac{V_0}{\\pi R^2} + R \\cdot \\tan{\\alpha}\n",
    "$$\n",
    "\n",
    "Now let's compute when the first phase ends: \n",
    "\n",
    "$$\n",
    "V_0 = V(2R)|_{\\alpha=\\alpha_0} \\iff V_0 = R^3 \\cdot \\tan{\\alpha_0} \\cdot V_F(2) \\iff \\alpha_0 = \\arctan{\\frac{V_0}{\\pi R^3}}\n",
    "$$\n",
    "\n",
    "This point marks the second candidate for the best angle as it has a break in the derivative. \n",
    "\n",
    "$$\n",
    "S_{\\alpha_{0}} = S(2)|_{\\alpha=\\alpha_0} = \\pi R^2 \\sqrt{1 + \\left(\\frac{V_0}{\\pi R^3}\\right)^2}\n",
    "$$\n",
    "\n",
    "The spill distance is computed as follows: \n",
    "\n",
    "$$\n",
    "L(\\alpha_0) = 2\\frac{V_0}{\\pi R^2}\n",
    "$$"
   ]
  },
  {
   "cell_type": "markdown",
   "metadata": {},
   "source": [
    "\n",
    "### Phase II and III\n",
    "\n",
    "\n",
    "With $\\alpha > \\alpha_0$, the ellipse is cut by the base of the cup at $h = 2R$ and then continues until $h = 0$ and $\\alpha = \\frac{\\pi}{2}$ where its surface approaches to some yet unknown value $S_{\\infty}$. \n",
    "\n",
    "The third candidate for the best angle, $\\alpha_1$, is when the surface touches the base at exactly the middle. \n",
    "\n",
    "\n",
    "$$\n",
    "V_0 = V(1) \\iff \\tan{\\alpha_1} = \\frac{3V_0}{2R^3} \\implies S_{\\alpha_{1}} = S(1)|_{\\alpha=\\alpha_1} = \\frac{\\pi R^2}{2} \\sqrt{1 + \\left( \\frac{3V_0}{2R^3}\\right)^2}\n",
    "$$\n",
    "\n",
    "With the spilling distance being: \n",
    "\n",
    "$$\n",
    "L(\\alpha_1) = \\frac{V_0}{\\pi R^2}\n",
    "$$\n",
    "\n",
    "Now let's try to derive the equation for $S(h)$, while $V(h) = V_0$. It would be preferable to do it with respect to $\\alpha$ as it is a parameter of the problem, but alas, the nonlinearity of $V_F$ and $S_F$ is too strong. \n",
    "\n",
    "The trick is to extract $\\tan{\\alpha}$ from the $V(h)$ and then substitute it to the $S(h)$.\n",
    "\n",
    "\n",
    "$$\n",
    "\\forall h \\in [0, 2R]. V_0 = V(\\frac{h}{R})|_{\\forall \\alpha} \\implies \\alpha(h) = \\arctan{\\left(\\frac{V_0}{R^3 V_F(\\frac{h}{R})}\\right)} \\implies S(h)|_{V=V_0} = R^2 \\sqrt{1 + \\left(\\frac{V_0}{R^3}\\right)^2 \\frac{1}{V_F(\\frac{h}{R})^2}} \\cdot S_F(\\frac{h}{R})\n",
    "$$\n",
    "\n",
    "It should be noted that $\\alpha(h)$ is monotonous with respect to $h$, thus inversable and could be used as a parameter for $S(h(\\alpha))$, but analytically it is not possible. However, it is possible to write a derivative for the surface with respect to $h$ and then calculate $\\alpha(h)$ after solving $\\frac{d}{dh}S(h) = 0$. The bad news is that $\\frac{d}{dh}S(h) = 0$ is solvable only numerically. \n",
    "\n",
    "\n",
    "The last thing to do here before writing code is to determine the value of $S_{\\infty}$.\n",
    "\n",
    "$$\n",
    "V_F(0) = 0 \\implies \\lim_{h \\to 0} S(h)|_{V = V_0} = \\pi R^2 \\sqrt{1 + \\left(\\frac{V_0}{R^3}\\right)^2 \\lim_{h \\to 0} \\frac{1}{V_F(\\frac{h}{R})^2}} = \\infty\n",
    "$$\n",
    "\n",
    "This signifies the importance of the spill distance and $\\alpha_2$ as a candidate for the best angle. \n",
    "\n",
    "$$\n",
    "L(h) = h \\frac{V_0}{R^3 V_F(\\frac{h}{R})}\n",
    "$$"
   ]
  },
  {
   "cell_type": "markdown",
   "metadata": {},
   "source": [
    "## Numerical shenanigans\n",
    "\n",
    "Before writing code it is important to disconnect equations from real-world values and parameters. Let's change the notation and make equations more uniform.\n",
    "\n",
    "Parameters\n",
    "\n",
    "* $a = \\frac{V_0}{R^3}$\n",
    "* $D_0 = \\frac{L_0}{R}$\n",
    "\n",
    "Variables \n",
    "\n",
    "* $t = \\frac{h}{R}$\n",
    "* $D = \\frac{L}{R}$\n",
    "* $A = \\frac{S}{R^2}$\n",
    "\n",
    "For $t \\in [0, 2]$\n",
    "\n",
    "$$\n",
    "A(t) = \\sqrt{1 + \\left(\\frac{a}{V_F(t)}\\right)^2} \\cdot S_F(t)\n",
    "$$\n",
    "$$\n",
    "D(t) = t \\cdot \\frac{a}{V_F(t)}\n",
    "$$\n",
    "\n",
    "$$\n",
    "\\alpha(t) = \\arctan{\\left(\\frac{a}{V_F(t)}\\right)}\n",
    "$$\n",
    "\n",
    "Overall, it turns out there are only two parameters to the problem: $D_0 = \\frac{L_0}{R}$ and $a = \\frac{V_0}{R^3}$. For each of them, it is possible to run computations to obtain numerical solutions."
   ]
  },
  {
   "cell_type": "code",
   "execution_count": 5,
   "metadata": {},
   "outputs": [],
   "source": [
    "import sys\n",
    "\n",
    "sys.path.append(\".\") # Sorry :(\n",
    "import math\n",
    "from coffee import CoffeeCup, CoffeeRenderer\n",
    "\n",
    "import matplotlib.pyplot as plt\n",
    "import numpy as np\n",
    "import scipy"
   ]
  },
  {
   "cell_type": "markdown",
   "metadata": {},
   "source": [
    "### Useful equations\n",
    "\n",
    "Delving into numerical methods one must remain vigilant for their applicability. While solving $\\alpha(t) - a = 0$ for t, while $a \\in (0, \\frac{\\pi}{2}]$ has no immediate traps, solving $\\frac{d}{dt} A(t) = 0$ has.\n",
    "\n",
    "If one plots $A(t)$ it turns out that it might have two extreme points, thus two roots of $A'(t) = 0$. Almost all root-finding algorithms assume a single root, so we need to split $t$ into two intervals with a single root each. \n",
    "\n",
    "Let's explore equation $\\frac{d}{dt} A(t) = 0$ while remembering that $V'_F(t) = S_F(t)$ and $S'_F(t) = q(t) = \\sqrt{1 - (1 - t)^2}$.\n",
    "\n",
    "$$\n",
    "\\frac{d}{dt} A(t) = 0 \\iff \\frac{d}{dt} \\left(\\sqrt{1 + \\left(\\frac{a}{V_F(t)}\\right)^2} \\cdot S_F(t)\\right) = 0 \\implies \\frac{2q(t)V_F(t)^3}{S_F(t)^2 - 2q(t)V_F(t)} = a^2, t \\in (0, 2)\n",
    "$$\n",
    "\n",
    "The important piece here is that the left side does not depend on $a$. "
   ]
  },
  {
   "cell_type": "code",
   "execution_count": null,
   "metadata": {},
   "outputs": [],
   "source": [
    "%matplotlib widget\n",
    "\n",
    "r = scipy.optimize.minimize_scalar( lambda x : -CoffeeCup.A_prime_eff(x)\n",
    "                                      , bounds=[0.0, 2.0]\n",
    "                                      , bracket=[0.0, 1.0, 2.0]\n",
    "                                      , method=\"bounded\")\n",
    "\n",
    "assert r.success, f\"Failed to find extreme of A'eff: {r.message}\"\n",
    "\n",
    "middle, a_max_sq = r.x, CoffeeCup.A_prime_eff(r.x)\n",
    "\n",
    "# Plots\n",
    "\n",
    "ts = np.linspace(0, 2, 200)\n",
    "aes = [CoffeeCup.A_prime_eff(t) for t in ts]\n",
    "\n",
    "fig = plt.figure()\n",
    "fig.suptitle('Effective area derivative', fontsize=16)\n",
    "ax = fig.add_subplot(1, 1, 1)\n",
    "\n",
    "upper_limit = 4\n",
    "right_limit = 2\n",
    "ax.set_xlim([0, right_limit])\n",
    "ax.set_ylim([0, upper_limit])\n",
    "ax.set_ylabel(\"A'eff\")\n",
    "ax.set_xlabel(\"Unified base touch height\")\n",
    "\n",
    "line, = ax.plot(ts, aes)\n",
    "\n",
    "\n",
    "ax.axvline( x=middle\n",
    "          , ymax=a_max_sq/upper_limit\n",
    "          , c='k', ls='--', label=\"Extremum of A'eff\")\n",
    "\n",
    "ax.axhline( y=7.0/upper_limit\n",
    "          , c='r', ls=':', label=\"A'eff(t) = a²\") # just an example\n",
    "\n",
    "ax.axhline( y=a_max_sq\n",
    "          , xmax=middle/right_limit\n",
    "          , c='k', ls='--')\n",
    "ax.legend()\n",
    "\n",
    "ann = ax.annotate(\"({:.2f}, {:.2f})\".format(middle, a_max_sq), (middle, a_max_sq))"
   ]
  },
  {
   "cell_type": "markdown",
   "metadata": {},
   "source": [
    "In order to find roots we need to find the maximum as we already did and then, employ up to two instances of root-finding algorithms to discover solutions to $$\\frac{d}{dt} A(t) = 0$$"
   ]
  },
  {
   "cell_type": "markdown",
   "metadata": {},
   "source": [
    "## Sanity check"
   ]
  },
  {
   "cell_type": "code",
   "execution_count": 7,
   "metadata": {},
   "outputs": [],
   "source": [
    "cc = CoffeeCup(1.0, 1.8)\n",
    "\n",
    "# Sanity check\n",
    "# Hand-computed value: 3.296908309475615 for D0 = 1, a = 1 as in \\pi/cos(\\alpha_0) = A(2) = sqrt(\\pi^2 + a^2)\n",
    "assert math.pi/math.cos(cc.alpha0) == cc.A(2.0), f\"areas on base hit are different! {math.pi/math.cos(cc.alpha0)} != {cc.A(2.0)}\"\n",
    "\n",
    "# Hand-computed value: 2.831793349784744 for D0 = 1, a = 1 as in \\pi/(cos(\\alpha_1)*2) = A(1) = \\pi/4 * sqrt(4 + 9a^2)\n",
    "assert math.pi/math.cos(cc.alpha1)/2.0 == cc.A(1.0), f\"areas on middle base hit are different! {math.pi/math.cos(cc.alpha1)/2.0} != {cc.A(1.0)}\"\n"
   ]
  },
  {
   "cell_type": "markdown",
   "metadata": {},
   "source": [
    "## Numerical solution and interactive plot"
   ]
  },
  {
   "cell_type": "code",
   "execution_count": null,
   "metadata": {},
   "outputs": [],
   "source": [
    "%matplotlib widget\n",
    "from ipywidgets import interact, FloatSlider\n",
    "\n",
    "\n",
    "render = CoffeeRenderer(cc=CoffeeCup(1.0, 1.0), d_pi=0.01)\n",
    "\n",
    "a_min = math.pow(10.0, -5.0)\n",
    "a_max = 5.0\n",
    "a_step = a_min\n",
    "\n",
    "\n",
    "\n",
    "# a = 1.8269 makes a single extreme\n",
    "\n",
    "i = interact( render.get_update_function()\n",
    "            , a=FloatSlider( value=1.0\n",
    "                           , min=a_min\n",
    "                           , max=a_max\n",
    "                           , step=a_step\n",
    "                           , description='a'\n",
    "                           , readout_format='.4f')\n",
    "            , D0=FloatSlider( value=1.0\n",
    "                            , min=0.0\n",
    "                            , max=10.0\n",
    "                            , step=0.01\n",
    "                            , description='D_0'\n",
    "                            , readout_format='.1f'))"
   ]
  },
  {
   "cell_type": "markdown",
   "metadata": {},
   "source": [
    "## Conclusion\n",
    "\n",
    "The most surprising thing for me was that $\\alpha_1$ is not an extreme point. \n",
    "\n",
    "A close second is that there are usually two extreme points after $\\alpha_0$ excluding $\\alpha_2$. I am yet to have a satisfying explanation for why they exist. "
   ]
  }
 ],
 "metadata": {
  "kernelspec": {
   "display_name": ".venv",
   "language": "python",
   "name": "python3"
  },
  "language_info": {
   "codemirror_mode": {
    "name": "ipython",
    "version": 3
   },
   "file_extension": ".py",
   "mimetype": "text/x-python",
   "name": "python",
   "nbconvert_exporter": "python",
   "pygments_lexer": "ipython3",
   "version": "3.12.5"
  }
 },
 "nbformat": 4,
 "nbformat_minor": 2
}
